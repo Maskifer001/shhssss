{
 "cells": [
  {
   "cell_type": "code",
   "execution_count": 2,
   "metadata": {},
   "outputs": [],
   "source": [
    "import pandas as pd\n",
    "import pyfpgrowth\n"
   ]
  },
  {
   "cell_type": "code",
   "execution_count": 3,
   "metadata": {},
   "outputs": [],
   "source": [
    "data = pd.read_excel('Book1.xlsx')\n"
   ]
  },
  {
   "cell_type": "code",
   "execution_count": 4,
   "metadata": {},
   "outputs": [],
   "source": [
    "transactions = []\n",
    "for index, row in data.iterrows():\n",
    "    transaction = []\n",
    "    for col in data.columns:\n",
    "        if row[col]:\n",
    "            transaction.append(col)\n",
    "    transactions.append(transaction)"
   ]
  },
  {
   "cell_type": "code",
   "execution_count": 5,
   "metadata": {},
   "outputs": [],
   "source": [
    "patterns = pyfpgrowth.find_frequent_patterns(transactions, 2)  # Adjust support threshold as needed\n"
   ]
  },
  {
   "cell_type": "code",
   "execution_count": 6,
   "metadata": {},
   "outputs": [],
   "source": [
    "rules = pyfpgrowth.generate_association_rules(patterns, 0.7)  # Adjust confidence threshold as needed\n"
   ]
  },
  {
   "cell_type": "code",
   "execution_count": 7,
   "metadata": {},
   "outputs": [
    {
     "name": "stdout",
     "output_type": "stream",
     "text": [
      "Frequent Itemsets:\n",
      "('Windy',): 2\n",
      "('Humidity', 'Windy'): 2\n",
      "('Temp', 'Windy'): 2\n",
      "('Outlook', 'Windy'): 2\n",
      "('Humidity', 'Temp', 'Windy'): 2\n",
      "('Humidity', 'Outlook', 'Windy'): 2\n",
      "('Outlook', 'Temp', 'Windy'): 2\n",
      "('Humidity', 'Outlook', 'Temp', 'Windy'): 2\n",
      "('Play',): 2\n",
      "('Humidity', 'Play'): 2\n",
      "('Play', 'Temp'): 2\n",
      "('Outlook', 'Play'): 2\n",
      "('Humidity', 'Play', 'Temp'): 2\n",
      "('Humidity', 'Outlook', 'Play'): 2\n",
      "('Outlook', 'Play', 'Temp'): 2\n",
      "('Humidity', 'Outlook', 'Play', 'Temp'): 2\n",
      "('Outlook',): 3\n",
      "('Temp',): 3\n",
      "('Outlook', 'Temp'): 3\n",
      "('Humidity',): 3\n",
      "('Humidity', 'Temp'): 3\n",
      "('Humidity', 'Outlook'): 3\n",
      "('Humidity', 'Outlook', 'Temp'): 3\n"
     ]
    }
   ],
   "source": [
    "print(\"Frequent Itemsets:\")\n",
    "for itemset, support in patterns.items():\n",
    "    print(f\"{itemset}: {support}\")"
   ]
  },
  {
   "cell_type": "code",
   "execution_count": 9,
   "metadata": {},
   "outputs": [
    {
     "name": "stdout",
     "output_type": "stream",
     "text": [
      "\n",
      "Association Rules:\n",
      "No association rules found.\n"
     ]
    }
   ],
   "source": [
    "try:\n",
    "    rules = pyfpgrowth.generate_association_rules(patterns, 0.7)  # Adjust confidence threshold as needed\n",
    "\n",
    "    # Print association rules\n",
    "    print(\"\\nAssociation Rules:\")\n",
    "    for rule, confidence in rules.items():\n",
    "        antecedent, consequent = rule\n",
    "        print(f\"{antecedent} -> {consequent}: {confidence}\")\n",
    "except ValueError as e:\n",
    "    print(\"No association rules found.\")\n"
   ]
  },
  {
   "cell_type": "code",
   "execution_count": null,
   "metadata": {},
   "outputs": [],
   "source": []
  }
 ],
 "metadata": {
  "kernelspec": {
   "display_name": "Python 3",
   "language": "python",
   "name": "python3"
  },
  "language_info": {
   "codemirror_mode": {
    "name": "ipython",
    "version": 3
   },
   "file_extension": ".py",
   "mimetype": "text/x-python",
   "name": "python",
   "nbconvert_exporter": "python",
   "pygments_lexer": "ipython3",
   "version": "3.11.5"
  }
 },
 "nbformat": 4,
 "nbformat_minor": 2
}
