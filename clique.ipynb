{
 "cells": [
  {
   "cell_type": "code",
   "execution_count": 1,
   "metadata": {},
   "outputs": [],
   "source": [
    "import pandas as pd\n",
    "import matplotlib.pyplot as plt\n",
    "from pyclustering.cluster.clique import clique\n",
    "from pyclustering.utils import read_sample\n",
    "from pyclustering.samples.definitions import SIMPLE_SAMPLES"
   ]
  },
  {
   "cell_type": "code",
   "execution_count": 3,
   "metadata": {},
   "outputs": [],
   "source": [
    "data = pd.read_excel('Book1.xlsx')\n"
   ]
  },
  {
   "cell_type": "code",
   "execution_count": 5,
   "metadata": {},
   "outputs": [],
   "source": [
    "X = data[['Outlook', 'Temp', 'Humidity', 'Windy']]  # Replace with actual feature names\n"
   ]
  },
  {
   "cell_type": "code",
   "execution_count": 6,
   "metadata": {},
   "outputs": [],
   "source": [
    "sample = X.values.tolist()\n"
   ]
  },
  {
   "cell_type": "code",
   "execution_count": 7,
   "metadata": {},
   "outputs": [],
   "source": [
    "# Set parameters for CLIQUE\n",
    "grid_resolution = 10  # The grid resolution\n",
    "minimal_size = 5  # The minimal number of points in the neighborhood of a point"
   ]
  },
  {
   "cell_type": "code",
   "execution_count": 8,
   "metadata": {},
   "outputs": [
    {
     "data": {
      "text/plain": [
       "<pyclustering.cluster.clique.clique at 0x1def4229350>"
      ]
     },
     "execution_count": 8,
     "metadata": {},
     "output_type": "execute_result"
    }
   ],
   "source": [
    "clique_instance = clique(sample, grid_resolution, minimal_size)\n",
    "clique_instance.process()\n"
   ]
  },
  {
   "cell_type": "code",
   "execution_count": 9,
   "metadata": {},
   "outputs": [],
   "source": [
    "clusters = clique_instance.get_clusters()\n",
    "noise = clique_instance.get_noise()"
   ]
  },
  {
   "cell_type": "code",
   "execution_count": 11,
   "metadata": {},
   "outputs": [
    {
     "name": "stdout",
     "output_type": "stream",
     "text": [
      "Noise:\n",
      "[0, 0, 0, 0]\n",
      "[0, 0, 0, 0]\n",
      "[2, 2, 1, 0]\n",
      "[1, 1, 1, 1]\n",
      "[2, 1, 1, 1]\n"
     ]
    }
   ],
   "source": [
    "for i, cluster in enumerate(clusters):\n",
    "    print(f\"Cluster {i+1}:\")\n",
    "    for point_index in cluster:\n",
    "        print(sample[point_index])\n",
    "    print()\n",
    "\n",
    "# Print noise points\n",
    "print(\"Noise:\")\n",
    "for point_index in noise:\n",
    "    print(sample[point_index])\n"
   ]
  }
 ],
 "metadata": {
  "kernelspec": {
   "display_name": "Python 3",
   "language": "python",
   "name": "python3"
  },
  "language_info": {
   "codemirror_mode": {
    "name": "ipython",
    "version": 3
   },
   "file_extension": ".py",
   "mimetype": "text/x-python",
   "name": "python",
   "nbconvert_exporter": "python",
   "pygments_lexer": "ipython3",
   "version": "3.11.5"
  }
 },
 "nbformat": 4,
 "nbformat_minor": 2
}
