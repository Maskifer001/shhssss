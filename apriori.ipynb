{
 "cells": [
  {
   "cell_type": "code",
   "execution_count": 1,
   "metadata": {},
   "outputs": [],
   "source": [
    "import pandas as pd\n",
    "from mlxtend.frequent_patterns import apriori, association_rules\n"
   ]
  },
  {
   "cell_type": "code",
   "execution_count": 2,
   "metadata": {},
   "outputs": [],
   "source": [
    "data = pd.read_excel('Book1.xlsx')"
   ]
  },
  {
   "cell_type": "code",
   "execution_count": 3,
   "metadata": {},
   "outputs": [],
   "source": [
    "transactions = []\n",
    "for index, row in data.iterrows():\n",
    "    transaction = set()\n",
    "    for col in data.columns:\n",
    "        if row[col]:\n",
    "            transaction.add(col)\n",
    "    transactions.append(transaction)"
   ]
  },
  {
   "cell_type": "code",
   "execution_count": 4,
   "metadata": {},
   "outputs": [],
   "source": [
    "one_hot_encoded_data = pd.get_dummies(pd.DataFrame(transactions), prefix='', prefix_sep='')\n"
   ]
  },
  {
   "cell_type": "code",
   "execution_count": 5,
   "metadata": {},
   "outputs": [
    {
     "name": "stderr",
     "output_type": "stream",
     "text": [
      "c:\\Users\\MITTRAV SHAH\\AppData\\Local\\Programs\\Python\\Python311\\Lib\\site-packages\\mlxtend\\frequent_patterns\\fpcommon.py:109: DeprecationWarning: DataFrames with non-bool types result in worse computationalperformance and their support might be discontinued in the future.Please use a DataFrame with bool type\n",
      "  warnings.warn(\n"
     ]
    }
   ],
   "source": [
    "frequent_itemsets = apriori(one_hot_encoded_data, min_support=0.1, use_colnames=True)\n"
   ]
  },
  {
   "cell_type": "code",
   "execution_count": 6,
   "metadata": {},
   "outputs": [],
   "source": [
    "rules = association_rules(frequent_itemsets, metric=\"lift\", min_threshold=1)\n"
   ]
  },
  {
   "cell_type": "code",
   "execution_count": 8,
   "metadata": {},
   "outputs": [
    {
     "name": "stdout",
     "output_type": "stream",
     "text": [
      "Frequent Itemsets:\n",
      "    support                                itemsets\n",
      "0       0.4                               (Outlook)\n",
      "1       0.2                                  (Play)\n",
      "2       0.2                              (Humidity)\n",
      "3       0.2                               (Outlook)\n",
      "4       0.2                                  (Play)\n",
      "5       0.4                              (Humidity)\n",
      "6       0.2                                 (Windy)\n",
      "7       0.4                                  (Temp)\n",
      "8       0.2                                 (Windy)\n",
      "9       0.2                                  (Temp)\n",
      "10      0.2                     (Outlook, Humidity)\n",
      "11      0.2                         (Play, Outlook)\n",
      "12      0.2                     (Outlook, Humidity)\n",
      "13      0.2                        (Outlook, Windy)\n",
      "14      0.2                         (Outlook, Temp)\n",
      "15      0.2                        (Outlook, Windy)\n",
      "16      0.2                         (Outlook, Temp)\n",
      "17      0.2                         (Play, Outlook)\n",
      "18      0.2                        (Play, Humidity)\n",
      "19      0.2                            (Play, Temp)\n",
      "20      0.2                       (Humidity, Windy)\n",
      "21      0.2                        (Humidity, Temp)\n",
      "22      0.2                     (Outlook, Humidity)\n",
      "23      0.2                         (Outlook, Temp)\n",
      "24      0.2                        (Play, Humidity)\n",
      "25      0.2                           (Play, Windy)\n",
      "26      0.2                            (Play, Temp)\n",
      "27      0.2                        (Humidity, Temp)\n",
      "28      0.2                       (Humidity, Windy)\n",
      "29      0.2                        (Humidity, Temp)\n",
      "30      0.2                           (Temp, Windy)\n",
      "31      0.2                           (Temp, Windy)\n",
      "32      0.2              (Outlook, Humidity, Windy)\n",
      "33      0.2               (Outlook, Humidity, Temp)\n",
      "34      0.2               (Play, Outlook, Humidity)\n",
      "35      0.2                  (Play, Outlook, Windy)\n",
      "36      0.2                   (Play, Outlook, Temp)\n",
      "37      0.2              (Outlook, Humidity, Windy)\n",
      "38      0.2               (Outlook, Humidity, Temp)\n",
      "39      0.2                  (Outlook, Temp, Windy)\n",
      "40      0.2                  (Outlook, Temp, Windy)\n",
      "41      0.2               (Play, Outlook, Humidity)\n",
      "42      0.2                   (Play, Outlook, Temp)\n",
      "43      0.2                  (Play, Humidity, Temp)\n",
      "44      0.2                 (Temp, Humidity, Windy)\n",
      "45      0.2               (Outlook, Humidity, Temp)\n",
      "46      0.2                 (Play, Humidity, Windy)\n",
      "47      0.2                  (Play, Humidity, Temp)\n",
      "48      0.2                     (Play, Temp, Windy)\n",
      "49      0.2                 (Temp, Humidity, Windy)\n",
      "50      0.2        (Outlook, Humidity, Temp, Windy)\n",
      "51      0.2        (Play, Outlook, Humidity, Windy)\n",
      "52      0.2         (Play, Outlook, Humidity, Temp)\n",
      "53      0.2            (Play, Outlook, Temp, Windy)\n",
      "54      0.2        (Outlook, Humidity, Temp, Windy)\n",
      "55      0.2         (Play, Outlook, Humidity, Temp)\n",
      "56      0.2           (Play, Temp, Humidity, Windy)\n",
      "57      0.2  (Outlook, Play, Humidity, Windy, Temp)\n"
     ]
    }
   ],
   "source": [
    "print(\"Frequent Itemsets:\")\n",
    "print(frequent_itemsets)"
   ]
  },
  {
   "cell_type": "code",
   "execution_count": 9,
   "metadata": {},
   "outputs": [
    {
     "name": "stdout",
     "output_type": "stream",
     "text": [
      "\n",
      "Association Rules:\n",
      "    antecedents                       consequents  antecedent support  \\\n",
      "0     (Outlook)                        (Humidity)                 0.2   \n",
      "1    (Humidity)                         (Outlook)                 0.4   \n",
      "2        (Play)                         (Outlook)                 0.2   \n",
      "3     (Outlook)                            (Play)                 0.2   \n",
      "4     (Outlook)                           (Windy)                 0.2   \n",
      "..          ...                               ...                 ...   \n",
      "175   (Outlook)     (Play, Temp, Humidity, Windy)                 0.2   \n",
      "176      (Play)  (Outlook, Humidity, Temp, Windy)                 0.2   \n",
      "177  (Humidity)      (Play, Outlook, Temp, Windy)                 0.4   \n",
      "178     (Windy)   (Play, Outlook, Humidity, Temp)                 0.2   \n",
      "179      (Temp)  (Play, Outlook, Humidity, Windy)                 0.2   \n",
      "\n",
      "     consequent support  support  confidence  lift  leverage  conviction  \\\n",
      "0                   0.4      0.2         1.0   2.5      0.12         inf   \n",
      "1                   0.2      0.2         0.5   2.5      0.12         1.6   \n",
      "2                   0.2      0.2         1.0   5.0      0.16         inf   \n",
      "3                   0.2      0.2         1.0   5.0      0.16         inf   \n",
      "4                   0.2      0.2         1.0   5.0      0.16         inf   \n",
      "..                  ...      ...         ...   ...       ...         ...   \n",
      "175                 0.2      0.2         1.0   5.0      0.16         inf   \n",
      "176                 0.2      0.2         1.0   5.0      0.16         inf   \n",
      "177                 0.2      0.2         0.5   2.5      0.12         1.6   \n",
      "178                 0.2      0.2         1.0   5.0      0.16         inf   \n",
      "179                 0.2      0.2         1.0   5.0      0.16         inf   \n",
      "\n",
      "     zhangs_metric  \n",
      "0             0.75  \n",
      "1             1.00  \n",
      "2             1.00  \n",
      "3             1.00  \n",
      "4             1.00  \n",
      "..             ...  \n",
      "175           1.00  \n",
      "176           1.00  \n",
      "177           1.00  \n",
      "178           1.00  \n",
      "179           1.00  \n",
      "\n",
      "[180 rows x 10 columns]\n"
     ]
    }
   ],
   "source": [
    "print(\"\\nAssociation Rules:\")\n",
    "print(rules)"
   ]
  },
  {
   "cell_type": "code",
   "execution_count": null,
   "metadata": {},
   "outputs": [],
   "source": []
  }
 ],
 "metadata": {
  "kernelspec": {
   "display_name": "Python 3",
   "language": "python",
   "name": "python3"
  },
  "language_info": {
   "codemirror_mode": {
    "name": "ipython",
    "version": 3
   },
   "file_extension": ".py",
   "mimetype": "text/x-python",
   "name": "python",
   "nbconvert_exporter": "python",
   "pygments_lexer": "ipython3",
   "version": "3.11.5"
  }
 },
 "nbformat": 4,
 "nbformat_minor": 2
}
